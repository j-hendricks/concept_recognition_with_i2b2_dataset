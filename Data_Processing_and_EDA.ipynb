{
  "cells": [
    {
      "cell_type": "code",
      "execution_count": 2,
      "id": "bc75f3b9",
      "metadata": {
        "id": "bc75f3b9"
      },
      "outputs": [],
      "source": [
        "# added seed arguments where necessary\n",
        "import numpy as np\n",
        "import pandas as pd\n",
        "import string\n",
        "import re\n",
        "import os\n",
        "from transformers import AutoModel\n",
        "from transformers import AutoTokenizer"
      ]
    },
    {
      "cell_type": "code",
      "source": [
        "# this notebook was ran on Google Colab, with the data residing in Google Drive. Therefore, you need to \"mount\" onto Google Drive\n",
        "from google.colab import drive\n",
        "drive.mount('/content/drive')"
      ],
      "metadata": {
        "colab": {
          "base_uri": "https://localhost:8080/"
        },
        "id": "kANl9IylZ6CE",
        "outputId": "8bc71b82-09a6-43ce-bb9c-0a4896d7e81d"
      },
      "id": "kANl9IylZ6CE",
      "execution_count": 3,
      "outputs": [
        {
          "output_type": "stream",
          "name": "stdout",
          "text": [
            "Mounted at /content/drive\n"
          ]
        }
      ]
    },
    {
      "cell_type": "code",
      "source": [
        "os.listdir('./')"
      ],
      "metadata": {
        "colab": {
          "base_uri": "https://localhost:8080/"
        },
        "id": "r1OorIy8aeqp",
        "outputId": "9825417c-4d1a-4629-e0a4-64194a92143d"
      },
      "id": "r1OorIy8aeqp",
      "execution_count": 4,
      "outputs": [
        {
          "output_type": "execute_result",
          "data": {
            "text/plain": [
              "['.config', 'drive', 'sample_data']"
            ]
          },
          "metadata": {},
          "execution_count": 4
        }
      ]
    },
    {
      "cell_type": "markdown",
      "source": [
        "**Step 1: Confirm Dataset is Complete**\n",
        "We need to ensure the dataset contains everything it is supposed to contain. In this section, I mainly check that each clinical note is accompanied by an annotation (conecpt file).\n",
        "\n",
        "This is an especially good habit in industry where data vendors will often provide incomplete data or data in an unexpected format."
      ],
      "metadata": {
        "id": "z_ZlWaHIpfFk"
      },
      "id": "z_ZlWaHIpfFk"
    },
    {
      "cell_type": "code",
      "execution_count": 5,
      "id": "7e4b2c66",
      "metadata": {
        "colab": {
          "base_uri": "https://localhost:8080/"
        },
        "id": "7e4b2c66",
        "outputId": "deb9bc2c-56b5-4881-a8ee-f0487a25e389"
      },
      "outputs": [
        {
          "output_type": "stream",
          "name": "stdout",
          "text": [
            "Number of clinical notes (for training) from Beth institute: 73\n"
          ]
        }
      ],
      "source": [
        "suffix = 'drive/MyDrive/medical_dataset_analysis/'\n",
        "beth_file_directory = 'concept_assertion_relation_training_data/beth/txt/'\n",
        "beth_train_files = os.listdir(suffix+beth_file_directory)\n",
        "beth_train_files.remove('.DS_Store')\n",
        "print(\"Number of clinical notes (for training) from Beth institute:\",len(beth_train_files))"
      ]
    },
    {
      "cell_type": "code",
      "execution_count": 6,
      "id": "93a6655e",
      "metadata": {
        "colab": {
          "base_uri": "https://localhost:8080/"
        },
        "id": "93a6655e",
        "outputId": "10666d01-e394-40df-9d73-48c3a27eec25"
      },
      "outputs": [
        {
          "output_type": "stream",
          "name": "stdout",
          "text": [
            "Number of concept files (for training) from Beth institute: 73\n"
          ]
        }
      ],
      "source": [
        "beth_concept_directory = 'concept_assertion_relation_training_data/beth/concept/'\n",
        "beth_concept_files = os.listdir(suffix+beth_concept_directory)\n",
        "print(\"Number of concept files (for training) from Beth institute:\",len(beth_concept_files))"
      ]
    },
    {
      "cell_type": "code",
      "execution_count": 7,
      "id": "74c66c2b",
      "metadata": {
        "colab": {
          "base_uri": "https://localhost:8080/"
        },
        "id": "74c66c2b",
        "outputId": "c3c10f7e-a9a1-440c-b48f-d5dc72076385"
      },
      "outputs": [
        {
          "output_type": "stream",
          "name": "stdout",
          "text": [
            "Number of clinical notes (for training) from partners other than Beth: 97\n"
          ]
        }
      ],
      "source": [
        "partner_file_directory = 'concept_assertion_relation_training_data/partners/txt/'\n",
        "partner_train_files = os.listdir(suffix+partner_file_directory)\n",
        "print(\"Number of clinical notes (for training) from partners other than Beth:\",len(partner_train_files))"
      ]
    },
    {
      "cell_type": "code",
      "execution_count": 8,
      "id": "a33ce59d",
      "metadata": {
        "colab": {
          "base_uri": "https://localhost:8080/"
        },
        "id": "a33ce59d",
        "outputId": "a3fd12a2-1f43-4592-934a-6c92bfe74306"
      },
      "outputs": [
        {
          "output_type": "stream",
          "name": "stdout",
          "text": [
            "Number of concept files (for training) from partners other than Beth: 97\n"
          ]
        }
      ],
      "source": [
        "partner_concept_directory = 'concept_assertion_relation_training_data/partners/concept/'\n",
        "partner_concept_files = os.listdir(suffix+partner_concept_directory)\n",
        "print(\"Number of concept files (for training) from partners other than Beth:\",len(partner_concept_files))"
      ]
    },
    {
      "cell_type": "code",
      "execution_count": 9,
      "id": "0a5b2742",
      "metadata": {
        "colab": {
          "base_uri": "https://localhost:8080/"
        },
        "id": "0a5b2742",
        "outputId": "bf7a3907-e0aa-4fd5-f42a-e9384014923d"
      },
      "outputs": [
        {
          "output_type": "stream",
          "name": "stdout",
          "text": [
            "Total number of notes for training: 170\n"
          ]
        }
      ],
      "source": [
        "all_train_files = partner_train_files + beth_train_files\n",
        "print(\"Total number of notes for training:\", len(all_train_files))"
      ]
    },
    {
      "cell_type": "code",
      "execution_count": 10,
      "id": "69493874",
      "metadata": {
        "colab": {
          "base_uri": "https://localhost:8080/"
        },
        "id": "69493874",
        "outputId": "ddd7f0a9-79ec-474a-c501-405dd618f09c"
      },
      "outputs": [
        {
          "output_type": "stream",
          "name": "stdout",
          "text": [
            "Number of clinical notes for testing: 256\n"
          ]
        }
      ],
      "source": [
        "test_directory = 'test_data/'\n",
        "test_files = os.listdir(suffix+test_directory)\n",
        "print(\"Number of clinical notes for testing:\",len(test_files))"
      ]
    },
    {
      "cell_type": "code",
      "execution_count": 11,
      "id": "02a935f9",
      "metadata": {
        "colab": {
          "base_uri": "https://localhost:8080/"
        },
        "id": "02a935f9",
        "outputId": "9027d0bb-ec24-41c7-9401-6069a1c4ec40"
      },
      "outputs": [
        {
          "output_type": "stream",
          "name": "stdout",
          "text": [
            "Number of concept files for testing: 256\n"
          ]
        }
      ],
      "source": [
        "test_directory_concepts = 'reference_standard_for_test_data/concepts/'\n",
        "concept_test_files = os.listdir(suffix+test_directory_concepts)\n",
        "print(\"Number of concept files for testing:\",len(concept_test_files))"
      ]
    },
    {
      "cell_type": "code",
      "source": [],
      "metadata": {
        "id": "VYddIP7uqdy_"
      },
      "id": "VYddIP7uqdy_",
      "execution_count": 11,
      "outputs": []
    },
    {
      "cell_type": "markdown",
      "source": [
        "There seems to be 256 notes for testing, but only 170 notes for training. To fully replicate the 2010 challenge this data was based on, I would need to split my training and testing in this manner. However, my goal is to achieve the highest F1-score possible, so I will combine the training and test and leave out only 10% or 20% for testing."
      ],
      "metadata": {
        "id": "gX_nT71Pqexc"
      },
      "id": "gX_nT71Pqexc"
    },
    {
      "cell_type": "code",
      "execution_count": 12,
      "id": "0fa9c5a7",
      "metadata": {
        "id": "0fa9c5a7"
      },
      "outputs": [],
      "source": [
        "beth_set_notes = set(list(map(lambda x: re.findall('[0-9]{2,3}',x)[0],beth_train_files)))\n",
        "beth_set_cons = set(list(map(lambda x: re.findall('[0-9]{2,3}',x)[0],beth_concept_files)))"
      ]
    },
    {
      "cell_type": "markdown",
      "source": [
        "Next, let's confirm that each clinical note maps to a concept file"
      ],
      "metadata": {
        "id": "NktgkE3drEBS"
      },
      "id": "NktgkE3drEBS"
    },
    {
      "cell_type": "code",
      "execution_count": 13,
      "id": "6cfef89c",
      "metadata": {
        "colab": {
          "base_uri": "https://localhost:8080/"
        },
        "id": "6cfef89c",
        "outputId": "46c0a1be-0dd6-404f-af86-829bb51fcb26"
      },
      "outputs": [
        {
          "output_type": "execute_result",
          "data": {
            "text/plain": [
              "73"
            ]
          },
          "metadata": {},
          "execution_count": 13
        }
      ],
      "source": [
        "len(beth_set_notes.intersection(beth_set_cons))"
      ]
    },
    {
      "cell_type": "code",
      "execution_count": 14,
      "id": "94347e91",
      "metadata": {
        "id": "94347e91"
      },
      "outputs": [],
      "source": [
        "partner_set_notes = set(list(map(lambda x: x[:-4],partner_train_files)))\n",
        "partner_set_cons = set(list(map(lambda x: x[:-4],partner_concept_files)))"
      ]
    },
    {
      "cell_type": "code",
      "execution_count": 15,
      "id": "c99107f9",
      "metadata": {
        "id": "c99107f9"
      },
      "outputs": [],
      "source": [
        "intersection_partner_set = set(partner_set_notes.intersection(partner_set_cons))"
      ]
    },
    {
      "cell_type": "code",
      "execution_count": 16,
      "id": "79dc624f",
      "metadata": {
        "colab": {
          "base_uri": "https://localhost:8080/"
        },
        "id": "79dc624f",
        "outputId": "9d8971e1-e57a-4464-a602-9b58fd003430"
      },
      "outputs": [
        {
          "output_type": "execute_result",
          "data": {
            "text/plain": [
              "97"
            ]
          },
          "metadata": {},
          "execution_count": 16
        }
      ],
      "source": [
        "len(intersection_partner_set)"
      ]
    },
    {
      "cell_type": "code",
      "execution_count": 17,
      "id": "efc0406b",
      "metadata": {
        "id": "efc0406b"
      },
      "outputs": [],
      "source": [
        "def getNotes(file_directory):\n",
        "    '''\n",
        "    Input: string representing file path of directory\n",
        "    Output: dictionary where the key is the clinical note id and the value is the raw text from the file\n",
        "    '''\n",
        "    text_dict = {}\n",
        "    file_list = os.listdir(suffix+file_directory)\n",
        "    for f in file_list:\n",
        "        if f[-3:] != 'xml' and f[-3:] != 'txt' and f[-3:] != 'con':\n",
        "            file_list.remove(f)\n",
        "    if '.DS_Store' in file_list:\n",
        "        file_list.remove('.DS_Store')\n",
        "    for file_name in file_list:\n",
        "        with open(suffix+file_directory + file_name,'r') as file:\n",
        "            data = file.read()\n",
        "            text_dict[file_name[:-4]] = data\n",
        "        file.close()\n",
        "    return text_dict"
      ]
    },
    {
      "cell_type": "code",
      "execution_count": 18,
      "id": "92d9b50b",
      "metadata": {
        "id": "92d9b50b"
      },
      "outputs": [],
      "source": [
        "beth_notes = getNotes(beth_file_directory)\n",
        "beth_concepts = getNotes(beth_concept_directory)\n",
        "partners_notes = getNotes(partner_file_directory)\n",
        "partners_concepts = getNotes(partner_concept_directory)"
      ]
    },
    {
      "cell_type": "code",
      "execution_count": 19,
      "id": "e13680cd",
      "metadata": {
        "id": "e13680cd"
      },
      "outputs": [],
      "source": [
        "a = set(list(beth_concepts.keys()))\n",
        "b = set(list(beth_notes.keys()))"
      ]
    },
    {
      "cell_type": "code",
      "execution_count": 20,
      "id": "61ff675c",
      "metadata": {
        "colab": {
          "base_uri": "https://localhost:8080/"
        },
        "id": "61ff675c",
        "outputId": "7f4af86b-fd02-4a1e-c102-945c20ecb1a9"
      },
      "outputs": [
        {
          "output_type": "execute_result",
          "data": {
            "text/plain": [
              "73"
            ]
          },
          "metadata": {},
          "execution_count": 20
        }
      ],
      "source": [
        "len(a.intersection(b))"
      ]
    },
    {
      "cell_type": "code",
      "execution_count": 21,
      "id": "338c2cdf",
      "metadata": {
        "id": "338c2cdf"
      },
      "outputs": [],
      "source": [
        "c = set(list(partners_notes.keys()))\n",
        "d = set(list(partners_concepts.keys()))"
      ]
    },
    {
      "cell_type": "code",
      "execution_count": 22,
      "id": "02e33fdb",
      "metadata": {
        "colab": {
          "base_uri": "https://localhost:8080/"
        },
        "id": "02e33fdb",
        "outputId": "ad947f8c-a480-4ce6-83e6-5450e7d637fe"
      },
      "outputs": [
        {
          "output_type": "execute_result",
          "data": {
            "text/plain": [
              "97"
            ]
          },
          "metadata": {},
          "execution_count": 22
        }
      ],
      "source": [
        "len(c.intersection(d))"
      ]
    },
    {
      "cell_type": "code",
      "execution_count": 23,
      "id": "203c3c7b",
      "metadata": {
        "id": "203c3c7b"
      },
      "outputs": [],
      "source": [
        "all_notes = beth_notes.copy()\n",
        "all_notes.update(partners_notes)"
      ]
    },
    {
      "cell_type": "code",
      "execution_count": 24,
      "id": "0ad14e44",
      "metadata": {
        "colab": {
          "base_uri": "https://localhost:8080/"
        },
        "id": "0ad14e44",
        "outputId": "ce9c17c2-25f0-4e09-f49f-a10eee3413a5"
      },
      "outputs": [
        {
          "output_type": "execute_result",
          "data": {
            "text/plain": [
              "170"
            ]
          },
          "metadata": {},
          "execution_count": 24
        }
      ],
      "source": [
        "len(list(all_notes.keys()))"
      ]
    },
    {
      "cell_type": "code",
      "execution_count": 25,
      "id": "2fe61a23",
      "metadata": {
        "id": "2fe61a23"
      },
      "outputs": [],
      "source": [
        "all_concepts = beth_concepts.copy()\n",
        "all_concepts.update(partners_concepts)"
      ]
    },
    {
      "cell_type": "code",
      "execution_count": 26,
      "id": "2fb6f895",
      "metadata": {
        "colab": {
          "base_uri": "https://localhost:8080/"
        },
        "id": "2fb6f895",
        "outputId": "424e6c79-18d4-49fd-c399-b601122cbd9d"
      },
      "outputs": [
        {
          "output_type": "execute_result",
          "data": {
            "text/plain": [
              "170"
            ]
          },
          "metadata": {},
          "execution_count": 26
        }
      ],
      "source": [
        "len(list(all_concepts.keys()))"
      ]
    },
    {
      "cell_type": "code",
      "execution_count": 27,
      "id": "7404389b",
      "metadata": {
        "id": "7404389b"
      },
      "outputs": [],
      "source": [
        "test_notes = getNotes(test_directory)\n",
        "test_concepts = getNotes(test_directory_concepts)"
      ]
    },
    {
      "cell_type": "code",
      "execution_count": 28,
      "id": "1603385b",
      "metadata": {
        "id": "1603385b"
      },
      "outputs": [],
      "source": [
        "e = set(list(test_notes.keys()))\n",
        "f = set(list(test_concepts.keys()))"
      ]
    },
    {
      "cell_type": "code",
      "execution_count": 29,
      "id": "20109615",
      "metadata": {
        "colab": {
          "base_uri": "https://localhost:8080/"
        },
        "id": "20109615",
        "outputId": "2b3ecf6e-3f05-47fa-ae63-cdf9b925298c"
      },
      "outputs": [
        {
          "output_type": "execute_result",
          "data": {
            "text/plain": [
              "256"
            ]
          },
          "metadata": {},
          "execution_count": 29
        }
      ],
      "source": [
        "len(e.intersection(f))"
      ]
    },
    {
      "cell_type": "code",
      "execution_count": 30,
      "id": "9698fc34",
      "metadata": {
        "id": "9698fc34"
      },
      "outputs": [],
      "source": [
        "all_notes.update(test_notes)\n",
        "all_concepts.update(test_concepts)"
      ]
    },
    {
      "cell_type": "code",
      "execution_count": 31,
      "id": "5d30928c",
      "metadata": {
        "id": "5d30928c"
      },
      "outputs": [],
      "source": [
        "g = set(list(all_concepts.keys()))\n",
        "h = set(list(all_notes.keys()))"
      ]
    },
    {
      "cell_type": "code",
      "execution_count": 32,
      "id": "cb767549",
      "metadata": {
        "colab": {
          "base_uri": "https://localhost:8080/"
        },
        "id": "cb767549",
        "outputId": "ae1f66e0-ee19-4182-8661-d71f45ed5134"
      },
      "outputs": [
        {
          "output_type": "execute_result",
          "data": {
            "text/plain": [
              "426"
            ]
          },
          "metadata": {},
          "execution_count": 32
        }
      ],
      "source": [
        "len(list(g.intersection(h)))"
      ]
    },
    {
      "cell_type": "markdown",
      "source": [
        "Now that we have the data in dictionaries, we need to preprocess the annotations so that they are in a format suitable for Named Entity Recognition. When a word has an annotation, the annotation will be tagged with a B or an I depending if it is the beginning of the annotation or not. For words without an annotation, they will be tagged with O, meaning there is no relevant concept to annotate.\n",
        "\n",
        "Also, I have split the data on white spaces as a start, but depending on the model I use I will have to modify this tokenization since tokenizers vary by model."
      ],
      "metadata": {
        "id": "UZiWlB_xsiiY"
      },
      "id": "UZiWlB_xsiiY"
    },
    {
      "cell_type": "code",
      "execution_count": 33,
      "id": "aec391da",
      "metadata": {
        "id": "aec391da"
      },
      "outputs": [],
      "source": [
        "start_tag = 'B'\n",
        "inner_tag = 'I'\n",
        "null_tag = 'O'"
      ]
    },
    {
      "cell_type": "code",
      "execution_count": 34,
      "id": "e89fe713",
      "metadata": {
        "id": "e89fe713"
      },
      "outputs": [],
      "source": [
        "data = {}\n",
        "\n",
        "for record in all_concepts.keys():\n",
        "    data[record] = {'words':[],'tags':[]}\n",
        "    ns = all_notes[record]\n",
        "    cs = all_concepts[record]\n",
        "    lines = ns.split('\\n')\n",
        "    concept_lines = cs.split('\\n')[:-1]\n",
        "\n",
        "    lines_with_concepts = {}\n",
        "\n",
        "    for concept_index, concept_line in enumerate(concept_lines):\n",
        "        note_line = re.findall('[0-9]{1,3}:',concept_line)[0][:-1]\n",
        "        word_nums = list(map(lambda x: int(x[1:]),re.findall(':[0-9]{1,3}',concept_line)))\n",
        "        lines_with_concepts[(note_line,str(concept_index))] = word_nums\n",
        "\n",
        "    for tup, word_nums in lines_with_concepts.items():\n",
        "\n",
        "        insert_dict = {}\n",
        "\n",
        "        notes_index, concepts_index = tup\n",
        "\n",
        "        the_words = lines[int(notes_index)-1].split(' ')\n",
        "        tags = [null_tag]*len(the_words)\n",
        "        for word_num in range(word_nums[0],word_nums[-1]+1):\n",
        "            tag_type = re.findall(r't=\\\"[a-z]+\\\"',concept_lines[int(concepts_index)])[0][3:-1]\n",
        "            if word_num == min(word_nums) and len(word_nums)<3:\n",
        "                tags[word_num] = start_tag + '-' + tag_type\n",
        "            else:\n",
        "                if len(word_nums) < 3:\n",
        "                    tags[word_num] = inner_tag + '-' + tag_type\n",
        "        data[record]['words'] += the_words\n",
        "        data[record]['tags'] +=  tags"
      ]
    },
    {
      "cell_type": "markdown",
      "source": [
        "Because I plan on working with a BERT model, the maximum tokens allowed are 512, meaning I need to ensure all samples are 512 tokens or less."
      ],
      "metadata": {
        "id": "trJ6_SoHuAcr"
      },
      "id": "trJ6_SoHuAcr"
    },
    {
      "cell_type": "code",
      "source": [
        "data_copy = data.copy()\n",
        "for note in data.keys():\n",
        "  num = len(data[note]['words'])\n",
        "  times = num // 512\n",
        "  for i in range(times):\n",
        "    data_copy[note+'-'+str(i)] = {'words': data_copy[note]['words'][i*512:(i+1)*512],'tags': data_copy[note]['tags'][i*512:(i+1)*512]}\n",
        "    if i == times - 1:\n",
        "      data_copy[note+'-'+str(i+1)] = {'words': data_copy[note]['words'][(i+1)*512:],'tags': data_copy[note]['tags'][(i+1)*512:]}\n",
        "  del data_copy[note]"
      ],
      "metadata": {
        "id": "nhYsu3ZFnij6"
      },
      "id": "nhYsu3ZFnij6",
      "execution_count": 35,
      "outputs": []
    },
    {
      "cell_type": "code",
      "source": [
        "df = pd.DataFrame(data_copy)\n",
        "df_trans = df.transpose()"
      ],
      "metadata": {
        "id": "z5QSpWHQ77_m"
      },
      "id": "z5QSpWHQ77_m",
      "execution_count": 36,
      "outputs": []
    },
    {
      "cell_type": "code",
      "execution_count": 37,
      "id": "94345265",
      "metadata": {
        "id": "94345265"
      },
      "outputs": [],
      "source": [
        "samples = df_trans.loc[['0073-1','0253-0','0406-4','0138-0','record-124-4','0089-3','record-82-3','0313-12','523704694-7','0061-4']]"
      ]
    },
    {
      "cell_type": "markdown",
      "source": [
        "Next, it is time to verify that the annotations are complete. To accomplish this, I took a random sample of 10 notes and looked at the first 10 tokens of each. I found 14% error rate. However, the content of these notes are extremely technical and were written by a skilled physician with the intention of being read by other skills physicians. Therefore, there might be some cruical nuances that I, a non-professional, am unable to detect. Therefore, I will continue this project with the assumption that the annotations are in fact complete.\n",
        "\n",
        "Please note that I promised the proprietors of this data I would not share the data with anyone besides my mentor, even though it is fully deidentified. Therefore, I have omitted the output of certain cells from this notebook. If you are a grader and want to further confirm the validity of this notebook, please reach out to my bootcamp mentor, Kyle McGrath."
      ],
      "metadata": {
        "id": "oXW-gKf9txiQ"
      },
      "id": "oXW-gKf9txiQ"
    },
    {
      "cell_type": "code",
      "execution_count": null,
      "id": "d22ec24f",
      "metadata": {
        "id": "d22ec24f"
      },
      "outputs": [],
      "source": [
        "samples['words10'] = samples['words'].apply(lambda x: x[0:10])\n",
        "samples['tags10'] = samples['tags'].apply(lambda x: x[0:10])\n",
        "samples"
      ]
    },
    {
      "cell_type": "code",
      "execution_count": null,
      "id": "9ec4131b",
      "metadata": {
        "id": "9ec4131b"
      },
      "outputs": [],
      "source": [
        "\n",
        "'''\n",
        "\n",
        "Here are the number of annotations I believe are missing from each sample:\n",
        "\n",
        "0073-1: 0\n",
        "0253-0: 0\n",
        "0406-4: 0\n",
        "0138-0: 0\n",
        "record-124-4: 0\n",
        "0089-3: 3\n",
        "record-82-3: 0\n",
        "0313-12: 2\n",
        "523704694-7: 6\n",
        "0061-4: 3\n",
        "\n",
        "total: 14\n",
        "\n",
        "rate: 14/100 = 14%\n",
        "\n",
        "'''\n",
        "samples[['words10','tags10']]"
      ]
    },
    {
      "cell_type": "code",
      "execution_count": 40,
      "id": "80af842f",
      "metadata": {
        "id": "80af842f"
      },
      "outputs": [],
      "source": [
        "# Split data between input variables, X, and target variables, y\n",
        "X = df_trans['words']\n",
        "y = df_trans['tags']"
      ]
    },
    {
      "cell_type": "code",
      "source": [
        "# series = df_trans['words']\n",
        "\n",
        "# vocab = []\n",
        "\n",
        "# for record in series.index:\n",
        "#   for word in series.loc[record]:\n",
        "#     if word.lower() not in vocab:\n",
        "#       vocab.append(word.lower())"
      ],
      "metadata": {
        "id": "snOfgTHVxC3d"
      },
      "id": "snOfgTHVxC3d",
      "execution_count": 41,
      "outputs": []
    },
    {
      "cell_type": "code",
      "source": [
        "from sklearn.feature_extraction.text import TfidfVectorizer\n",
        "\n",
        "df = pd.DataFrame(data)\n",
        "df_trans2 = df.transpose()\n",
        "\n",
        "series = df_trans2['words']\n",
        "\n",
        "documents = list()\n",
        "\n",
        "for record in series.index:\n",
        "  words = \" \".join(series.loc[record])\n",
        "  documents.append(words)\n",
        "\n",
        "vec = TfidfVectorizer(analyzer='word' , stop_words='english')\n",
        "X = vec.fit_transform(documents)"
      ],
      "metadata": {
        "id": "RIPKDR5oxDXw"
      },
      "id": "RIPKDR5oxDXw",
      "execution_count": 47,
      "outputs": []
    },
    {
      "cell_type": "code",
      "source": [
        "df_tfidf = pd.DataFrame(X.toarray(), columns = vec.get_feature_names_out(), index = series.index)\n",
        "df_tfidf"
      ],
      "metadata": {
        "colab": {
          "base_uri": "https://localhost:8080/",
          "height": 424
        },
        "id": "FxA98SqAxEB7",
        "outputId": "51952986-d58b-4b0c-cb6c-6049cd59716a"
      },
      "id": "FxA98SqAxEB7",
      "execution_count": 48,
      "outputs": [
        {
          "output_type": "execute_result",
          "data": {
            "text/plain": [
              "                  00       000  0004  0028  005  008  00pm        01  \\\n",
              "record-22   0.000000  0.000000   0.0   0.0  0.0  0.0   0.0  0.000000   \n",
              "record-105  0.000000  0.000000   0.0   0.0  0.0  0.0   0.0  0.000000   \n",
              "record-30   0.000000  0.000000   0.0   0.0  0.0  0.0   0.0  0.000000   \n",
              "record-83   0.007949  0.005636   0.0   0.0  0.0  0.0   0.0  0.000000   \n",
              "record-14   0.000000  0.000000   0.0   0.0  0.0  0.0   0.0  0.000000   \n",
              "...              ...       ...   ...   ...  ...  ...   ...       ...   \n",
              "0333        0.000000  0.000000   0.0   0.0  0.0  0.0   0.0  0.081977   \n",
              "0393        0.000000  0.002222   0.0   0.0  0.0  0.0   0.0  0.013618   \n",
              "0421        0.000000  0.000000   0.0   0.0  0.0  0.0   0.0  0.000000   \n",
              "0433        0.000000  0.000000   0.0   0.0  0.0  0.0   0.0  0.000000   \n",
              "0460        0.000000  0.003420   0.0   0.0  0.0  0.0   0.0  0.041928   \n",
              "\n",
              "                 010  013  ...  zonegran  zonisamide  zoster     zosyn  zpak  \\\n",
              "record-22   0.000000  0.0  ...  0.000000    0.000000     0.0  0.000000   0.0   \n",
              "record-105  0.000000  0.0  ...  0.000000    0.000000     0.0  0.000000   0.0   \n",
              "record-30   0.000000  0.0  ...  0.000000    0.000000     0.0  0.000000   0.0   \n",
              "record-83   0.000000  0.0  ...  0.000000    0.000000     0.0  0.000000   0.0   \n",
              "record-14   0.000000  0.0  ...  0.000000    0.000000     0.0  0.000000   0.0   \n",
              "...              ...  ...  ...       ...         ...     ...       ...   ...   \n",
              "0333        0.000000  0.0  ...  0.000000    0.000000     0.0  0.000000   0.0   \n",
              "0393        0.022595  0.0  ...  0.056488    0.005649     0.0  0.000000   0.0   \n",
              "0421        0.000000  0.0  ...  0.000000    0.000000     0.0  0.000000   0.0   \n",
              "0433        0.000000  0.0  ...  0.000000    0.000000     0.0  0.000000   0.0   \n",
              "0460        0.000000  0.0  ...  0.000000    0.000000     0.0  0.029712   0.0   \n",
              "\n",
              "            zv061  zygoma  zygomal  zyprexa  zyrtec  \n",
              "record-22     0.0     0.0      0.0      0.0     0.0  \n",
              "record-105    0.0     0.0      0.0      0.0     0.0  \n",
              "record-30     0.0     0.0      0.0      0.0     0.0  \n",
              "record-83     0.0     0.0      0.0      0.0     0.0  \n",
              "record-14     0.0     0.0      0.0      0.0     0.0  \n",
              "...           ...     ...      ...      ...     ...  \n",
              "0333          0.0     0.0      0.0      0.0     0.0  \n",
              "0393          0.0     0.0      0.0      0.0     0.0  \n",
              "0421          0.0     0.0      0.0      0.0     0.0  \n",
              "0433          0.0     0.0      0.0      0.0     0.0  \n",
              "0460          0.0     0.0      0.0      0.0     0.0  \n",
              "\n",
              "[426 rows x 12307 columns]"
            ],
            "text/html": [
              "\n",
              "  <div id=\"df-939ae102-e17a-47c4-849c-adccbc6bc62e\" class=\"colab-df-container\">\n",
              "    <div>\n",
              "<style scoped>\n",
              "    .dataframe tbody tr th:only-of-type {\n",
              "        vertical-align: middle;\n",
              "    }\n",
              "\n",
              "    .dataframe tbody tr th {\n",
              "        vertical-align: top;\n",
              "    }\n",
              "\n",
              "    .dataframe thead th {\n",
              "        text-align: right;\n",
              "    }\n",
              "</style>\n",
              "<table border=\"1\" class=\"dataframe\">\n",
              "  <thead>\n",
              "    <tr style=\"text-align: right;\">\n",
              "      <th></th>\n",
              "      <th>00</th>\n",
              "      <th>000</th>\n",
              "      <th>0004</th>\n",
              "      <th>0028</th>\n",
              "      <th>005</th>\n",
              "      <th>008</th>\n",
              "      <th>00pm</th>\n",
              "      <th>01</th>\n",
              "      <th>010</th>\n",
              "      <th>013</th>\n",
              "      <th>...</th>\n",
              "      <th>zonegran</th>\n",
              "      <th>zonisamide</th>\n",
              "      <th>zoster</th>\n",
              "      <th>zosyn</th>\n",
              "      <th>zpak</th>\n",
              "      <th>zv061</th>\n",
              "      <th>zygoma</th>\n",
              "      <th>zygomal</th>\n",
              "      <th>zyprexa</th>\n",
              "      <th>zyrtec</th>\n",
              "    </tr>\n",
              "  </thead>\n",
              "  <tbody>\n",
              "    <tr>\n",
              "      <th>record-22</th>\n",
              "      <td>0.000000</td>\n",
              "      <td>0.000000</td>\n",
              "      <td>0.0</td>\n",
              "      <td>0.0</td>\n",
              "      <td>0.0</td>\n",
              "      <td>0.0</td>\n",
              "      <td>0.0</td>\n",
              "      <td>0.000000</td>\n",
              "      <td>0.000000</td>\n",
              "      <td>0.0</td>\n",
              "      <td>...</td>\n",
              "      <td>0.000000</td>\n",
              "      <td>0.000000</td>\n",
              "      <td>0.0</td>\n",
              "      <td>0.000000</td>\n",
              "      <td>0.0</td>\n",
              "      <td>0.0</td>\n",
              "      <td>0.0</td>\n",
              "      <td>0.0</td>\n",
              "      <td>0.0</td>\n",
              "      <td>0.0</td>\n",
              "    </tr>\n",
              "    <tr>\n",
              "      <th>record-105</th>\n",
              "      <td>0.000000</td>\n",
              "      <td>0.000000</td>\n",
              "      <td>0.0</td>\n",
              "      <td>0.0</td>\n",
              "      <td>0.0</td>\n",
              "      <td>0.0</td>\n",
              "      <td>0.0</td>\n",
              "      <td>0.000000</td>\n",
              "      <td>0.000000</td>\n",
              "      <td>0.0</td>\n",
              "      <td>...</td>\n",
              "      <td>0.000000</td>\n",
              "      <td>0.000000</td>\n",
              "      <td>0.0</td>\n",
              "      <td>0.000000</td>\n",
              "      <td>0.0</td>\n",
              "      <td>0.0</td>\n",
              "      <td>0.0</td>\n",
              "      <td>0.0</td>\n",
              "      <td>0.0</td>\n",
              "      <td>0.0</td>\n",
              "    </tr>\n",
              "    <tr>\n",
              "      <th>record-30</th>\n",
              "      <td>0.000000</td>\n",
              "      <td>0.000000</td>\n",
              "      <td>0.0</td>\n",
              "      <td>0.0</td>\n",
              "      <td>0.0</td>\n",
              "      <td>0.0</td>\n",
              "      <td>0.0</td>\n",
              "      <td>0.000000</td>\n",
              "      <td>0.000000</td>\n",
              "      <td>0.0</td>\n",
              "      <td>...</td>\n",
              "      <td>0.000000</td>\n",
              "      <td>0.000000</td>\n",
              "      <td>0.0</td>\n",
              "      <td>0.000000</td>\n",
              "      <td>0.0</td>\n",
              "      <td>0.0</td>\n",
              "      <td>0.0</td>\n",
              "      <td>0.0</td>\n",
              "      <td>0.0</td>\n",
              "      <td>0.0</td>\n",
              "    </tr>\n",
              "    <tr>\n",
              "      <th>record-83</th>\n",
              "      <td>0.007949</td>\n",
              "      <td>0.005636</td>\n",
              "      <td>0.0</td>\n",
              "      <td>0.0</td>\n",
              "      <td>0.0</td>\n",
              "      <td>0.0</td>\n",
              "      <td>0.0</td>\n",
              "      <td>0.000000</td>\n",
              "      <td>0.000000</td>\n",
              "      <td>0.0</td>\n",
              "      <td>...</td>\n",
              "      <td>0.000000</td>\n",
              "      <td>0.000000</td>\n",
              "      <td>0.0</td>\n",
              "      <td>0.000000</td>\n",
              "      <td>0.0</td>\n",
              "      <td>0.0</td>\n",
              "      <td>0.0</td>\n",
              "      <td>0.0</td>\n",
              "      <td>0.0</td>\n",
              "      <td>0.0</td>\n",
              "    </tr>\n",
              "    <tr>\n",
              "      <th>record-14</th>\n",
              "      <td>0.000000</td>\n",
              "      <td>0.000000</td>\n",
              "      <td>0.0</td>\n",
              "      <td>0.0</td>\n",
              "      <td>0.0</td>\n",
              "      <td>0.0</td>\n",
              "      <td>0.0</td>\n",
              "      <td>0.000000</td>\n",
              "      <td>0.000000</td>\n",
              "      <td>0.0</td>\n",
              "      <td>...</td>\n",
              "      <td>0.000000</td>\n",
              "      <td>0.000000</td>\n",
              "      <td>0.0</td>\n",
              "      <td>0.000000</td>\n",
              "      <td>0.0</td>\n",
              "      <td>0.0</td>\n",
              "      <td>0.0</td>\n",
              "      <td>0.0</td>\n",
              "      <td>0.0</td>\n",
              "      <td>0.0</td>\n",
              "    </tr>\n",
              "    <tr>\n",
              "      <th>...</th>\n",
              "      <td>...</td>\n",
              "      <td>...</td>\n",
              "      <td>...</td>\n",
              "      <td>...</td>\n",
              "      <td>...</td>\n",
              "      <td>...</td>\n",
              "      <td>...</td>\n",
              "      <td>...</td>\n",
              "      <td>...</td>\n",
              "      <td>...</td>\n",
              "      <td>...</td>\n",
              "      <td>...</td>\n",
              "      <td>...</td>\n",
              "      <td>...</td>\n",
              "      <td>...</td>\n",
              "      <td>...</td>\n",
              "      <td>...</td>\n",
              "      <td>...</td>\n",
              "      <td>...</td>\n",
              "      <td>...</td>\n",
              "      <td>...</td>\n",
              "    </tr>\n",
              "    <tr>\n",
              "      <th>0333</th>\n",
              "      <td>0.000000</td>\n",
              "      <td>0.000000</td>\n",
              "      <td>0.0</td>\n",
              "      <td>0.0</td>\n",
              "      <td>0.0</td>\n",
              "      <td>0.0</td>\n",
              "      <td>0.0</td>\n",
              "      <td>0.081977</td>\n",
              "      <td>0.000000</td>\n",
              "      <td>0.0</td>\n",
              "      <td>...</td>\n",
              "      <td>0.000000</td>\n",
              "      <td>0.000000</td>\n",
              "      <td>0.0</td>\n",
              "      <td>0.000000</td>\n",
              "      <td>0.0</td>\n",
              "      <td>0.0</td>\n",
              "      <td>0.0</td>\n",
              "      <td>0.0</td>\n",
              "      <td>0.0</td>\n",
              "      <td>0.0</td>\n",
              "    </tr>\n",
              "    <tr>\n",
              "      <th>0393</th>\n",
              "      <td>0.000000</td>\n",
              "      <td>0.002222</td>\n",
              "      <td>0.0</td>\n",
              "      <td>0.0</td>\n",
              "      <td>0.0</td>\n",
              "      <td>0.0</td>\n",
              "      <td>0.0</td>\n",
              "      <td>0.013618</td>\n",
              "      <td>0.022595</td>\n",
              "      <td>0.0</td>\n",
              "      <td>...</td>\n",
              "      <td>0.056488</td>\n",
              "      <td>0.005649</td>\n",
              "      <td>0.0</td>\n",
              "      <td>0.000000</td>\n",
              "      <td>0.0</td>\n",
              "      <td>0.0</td>\n",
              "      <td>0.0</td>\n",
              "      <td>0.0</td>\n",
              "      <td>0.0</td>\n",
              "      <td>0.0</td>\n",
              "    </tr>\n",
              "    <tr>\n",
              "      <th>0421</th>\n",
              "      <td>0.000000</td>\n",
              "      <td>0.000000</td>\n",
              "      <td>0.0</td>\n",
              "      <td>0.0</td>\n",
              "      <td>0.0</td>\n",
              "      <td>0.0</td>\n",
              "      <td>0.0</td>\n",
              "      <td>0.000000</td>\n",
              "      <td>0.000000</td>\n",
              "      <td>0.0</td>\n",
              "      <td>...</td>\n",
              "      <td>0.000000</td>\n",
              "      <td>0.000000</td>\n",
              "      <td>0.0</td>\n",
              "      <td>0.000000</td>\n",
              "      <td>0.0</td>\n",
              "      <td>0.0</td>\n",
              "      <td>0.0</td>\n",
              "      <td>0.0</td>\n",
              "      <td>0.0</td>\n",
              "      <td>0.0</td>\n",
              "    </tr>\n",
              "    <tr>\n",
              "      <th>0433</th>\n",
              "      <td>0.000000</td>\n",
              "      <td>0.000000</td>\n",
              "      <td>0.0</td>\n",
              "      <td>0.0</td>\n",
              "      <td>0.0</td>\n",
              "      <td>0.0</td>\n",
              "      <td>0.0</td>\n",
              "      <td>0.000000</td>\n",
              "      <td>0.000000</td>\n",
              "      <td>0.0</td>\n",
              "      <td>...</td>\n",
              "      <td>0.000000</td>\n",
              "      <td>0.000000</td>\n",
              "      <td>0.0</td>\n",
              "      <td>0.000000</td>\n",
              "      <td>0.0</td>\n",
              "      <td>0.0</td>\n",
              "      <td>0.0</td>\n",
              "      <td>0.0</td>\n",
              "      <td>0.0</td>\n",
              "      <td>0.0</td>\n",
              "    </tr>\n",
              "    <tr>\n",
              "      <th>0460</th>\n",
              "      <td>0.000000</td>\n",
              "      <td>0.003420</td>\n",
              "      <td>0.0</td>\n",
              "      <td>0.0</td>\n",
              "      <td>0.0</td>\n",
              "      <td>0.0</td>\n",
              "      <td>0.0</td>\n",
              "      <td>0.041928</td>\n",
              "      <td>0.000000</td>\n",
              "      <td>0.0</td>\n",
              "      <td>...</td>\n",
              "      <td>0.000000</td>\n",
              "      <td>0.000000</td>\n",
              "      <td>0.0</td>\n",
              "      <td>0.029712</td>\n",
              "      <td>0.0</td>\n",
              "      <td>0.0</td>\n",
              "      <td>0.0</td>\n",
              "      <td>0.0</td>\n",
              "      <td>0.0</td>\n",
              "      <td>0.0</td>\n",
              "    </tr>\n",
              "  </tbody>\n",
              "</table>\n",
              "<p>426 rows × 12307 columns</p>\n",
              "</div>\n",
              "    <div class=\"colab-df-buttons\">\n",
              "\n",
              "  <div class=\"colab-df-container\">\n",
              "    <button class=\"colab-df-convert\" onclick=\"convertToInteractive('df-939ae102-e17a-47c4-849c-adccbc6bc62e')\"\n",
              "            title=\"Convert this dataframe to an interactive table.\"\n",
              "            style=\"display:none;\">\n",
              "\n",
              "  <svg xmlns=\"http://www.w3.org/2000/svg\" height=\"24px\" viewBox=\"0 -960 960 960\">\n",
              "    <path d=\"M120-120v-720h720v720H120Zm60-500h600v-160H180v160Zm220 220h160v-160H400v160Zm0 220h160v-160H400v160ZM180-400h160v-160H180v160Zm440 0h160v-160H620v160ZM180-180h160v-160H180v160Zm440 0h160v-160H620v160Z\"/>\n",
              "  </svg>\n",
              "    </button>\n",
              "\n",
              "  <style>\n",
              "    .colab-df-container {\n",
              "      display:flex;\n",
              "      gap: 12px;\n",
              "    }\n",
              "\n",
              "    .colab-df-convert {\n",
              "      background-color: #E8F0FE;\n",
              "      border: none;\n",
              "      border-radius: 50%;\n",
              "      cursor: pointer;\n",
              "      display: none;\n",
              "      fill: #1967D2;\n",
              "      height: 32px;\n",
              "      padding: 0 0 0 0;\n",
              "      width: 32px;\n",
              "    }\n",
              "\n",
              "    .colab-df-convert:hover {\n",
              "      background-color: #E2EBFA;\n",
              "      box-shadow: 0px 1px 2px rgba(60, 64, 67, 0.3), 0px 1px 3px 1px rgba(60, 64, 67, 0.15);\n",
              "      fill: #174EA6;\n",
              "    }\n",
              "\n",
              "    .colab-df-buttons div {\n",
              "      margin-bottom: 4px;\n",
              "    }\n",
              "\n",
              "    [theme=dark] .colab-df-convert {\n",
              "      background-color: #3B4455;\n",
              "      fill: #D2E3FC;\n",
              "    }\n",
              "\n",
              "    [theme=dark] .colab-df-convert:hover {\n",
              "      background-color: #434B5C;\n",
              "      box-shadow: 0px 1px 3px 1px rgba(0, 0, 0, 0.15);\n",
              "      filter: drop-shadow(0px 1px 2px rgba(0, 0, 0, 0.3));\n",
              "      fill: #FFFFFF;\n",
              "    }\n",
              "  </style>\n",
              "\n",
              "    <script>\n",
              "      const buttonEl =\n",
              "        document.querySelector('#df-939ae102-e17a-47c4-849c-adccbc6bc62e button.colab-df-convert');\n",
              "      buttonEl.style.display =\n",
              "        google.colab.kernel.accessAllowed ? 'block' : 'none';\n",
              "\n",
              "      async function convertToInteractive(key) {\n",
              "        const element = document.querySelector('#df-939ae102-e17a-47c4-849c-adccbc6bc62e');\n",
              "        const dataTable =\n",
              "          await google.colab.kernel.invokeFunction('convertToInteractive',\n",
              "                                                    [key], {});\n",
              "        if (!dataTable) return;\n",
              "\n",
              "        const docLinkHtml = 'Like what you see? Visit the ' +\n",
              "          '<a target=\"_blank\" href=https://colab.research.google.com/notebooks/data_table.ipynb>data table notebook</a>'\n",
              "          + ' to learn more about interactive tables.';\n",
              "        element.innerHTML = '';\n",
              "        dataTable['output_type'] = 'display_data';\n",
              "        await google.colab.output.renderOutput(dataTable, element);\n",
              "        const docLink = document.createElement('div');\n",
              "        docLink.innerHTML = docLinkHtml;\n",
              "        element.appendChild(docLink);\n",
              "      }\n",
              "    </script>\n",
              "  </div>\n",
              "\n",
              "\n",
              "<div id=\"df-7f9e9603-1b01-45eb-ae1d-60d4ad3142cf\">\n",
              "  <button class=\"colab-df-quickchart\" onclick=\"quickchart('df-7f9e9603-1b01-45eb-ae1d-60d4ad3142cf')\"\n",
              "            title=\"Suggest charts\"\n",
              "            style=\"display:none;\">\n",
              "\n",
              "<svg xmlns=\"http://www.w3.org/2000/svg\" height=\"24px\"viewBox=\"0 0 24 24\"\n",
              "     width=\"24px\">\n",
              "    <g>\n",
              "        <path d=\"M19 3H5c-1.1 0-2 .9-2 2v14c0 1.1.9 2 2 2h14c1.1 0 2-.9 2-2V5c0-1.1-.9-2-2-2zM9 17H7v-7h2v7zm4 0h-2V7h2v10zm4 0h-2v-4h2v4z\"/>\n",
              "    </g>\n",
              "</svg>\n",
              "  </button>\n",
              "\n",
              "<style>\n",
              "  .colab-df-quickchart {\n",
              "      --bg-color: #E8F0FE;\n",
              "      --fill-color: #1967D2;\n",
              "      --hover-bg-color: #E2EBFA;\n",
              "      --hover-fill-color: #174EA6;\n",
              "      --disabled-fill-color: #AAA;\n",
              "      --disabled-bg-color: #DDD;\n",
              "  }\n",
              "\n",
              "  [theme=dark] .colab-df-quickchart {\n",
              "      --bg-color: #3B4455;\n",
              "      --fill-color: #D2E3FC;\n",
              "      --hover-bg-color: #434B5C;\n",
              "      --hover-fill-color: #FFFFFF;\n",
              "      --disabled-bg-color: #3B4455;\n",
              "      --disabled-fill-color: #666;\n",
              "  }\n",
              "\n",
              "  .colab-df-quickchart {\n",
              "    background-color: var(--bg-color);\n",
              "    border: none;\n",
              "    border-radius: 50%;\n",
              "    cursor: pointer;\n",
              "    display: none;\n",
              "    fill: var(--fill-color);\n",
              "    height: 32px;\n",
              "    padding: 0;\n",
              "    width: 32px;\n",
              "  }\n",
              "\n",
              "  .colab-df-quickchart:hover {\n",
              "    background-color: var(--hover-bg-color);\n",
              "    box-shadow: 0 1px 2px rgba(60, 64, 67, 0.3), 0 1px 3px 1px rgba(60, 64, 67, 0.15);\n",
              "    fill: var(--button-hover-fill-color);\n",
              "  }\n",
              "\n",
              "  .colab-df-quickchart-complete:disabled,\n",
              "  .colab-df-quickchart-complete:disabled:hover {\n",
              "    background-color: var(--disabled-bg-color);\n",
              "    fill: var(--disabled-fill-color);\n",
              "    box-shadow: none;\n",
              "  }\n",
              "\n",
              "  .colab-df-spinner {\n",
              "    border: 2px solid var(--fill-color);\n",
              "    border-color: transparent;\n",
              "    border-bottom-color: var(--fill-color);\n",
              "    animation:\n",
              "      spin 1s steps(1) infinite;\n",
              "  }\n",
              "\n",
              "  @keyframes spin {\n",
              "    0% {\n",
              "      border-color: transparent;\n",
              "      border-bottom-color: var(--fill-color);\n",
              "      border-left-color: var(--fill-color);\n",
              "    }\n",
              "    20% {\n",
              "      border-color: transparent;\n",
              "      border-left-color: var(--fill-color);\n",
              "      border-top-color: var(--fill-color);\n",
              "    }\n",
              "    30% {\n",
              "      border-color: transparent;\n",
              "      border-left-color: var(--fill-color);\n",
              "      border-top-color: var(--fill-color);\n",
              "      border-right-color: var(--fill-color);\n",
              "    }\n",
              "    40% {\n",
              "      border-color: transparent;\n",
              "      border-right-color: var(--fill-color);\n",
              "      border-top-color: var(--fill-color);\n",
              "    }\n",
              "    60% {\n",
              "      border-color: transparent;\n",
              "      border-right-color: var(--fill-color);\n",
              "    }\n",
              "    80% {\n",
              "      border-color: transparent;\n",
              "      border-right-color: var(--fill-color);\n",
              "      border-bottom-color: var(--fill-color);\n",
              "    }\n",
              "    90% {\n",
              "      border-color: transparent;\n",
              "      border-bottom-color: var(--fill-color);\n",
              "    }\n",
              "  }\n",
              "</style>\n",
              "\n",
              "  <script>\n",
              "    async function quickchart(key) {\n",
              "      const quickchartButtonEl =\n",
              "        document.querySelector('#' + key + ' button');\n",
              "      quickchartButtonEl.disabled = true;  // To prevent multiple clicks.\n",
              "      quickchartButtonEl.classList.add('colab-df-spinner');\n",
              "      try {\n",
              "        const charts = await google.colab.kernel.invokeFunction(\n",
              "            'suggestCharts', [key], {});\n",
              "      } catch (error) {\n",
              "        console.error('Error during call to suggestCharts:', error);\n",
              "      }\n",
              "      quickchartButtonEl.classList.remove('colab-df-spinner');\n",
              "      quickchartButtonEl.classList.add('colab-df-quickchart-complete');\n",
              "    }\n",
              "    (() => {\n",
              "      let quickchartButtonEl =\n",
              "        document.querySelector('#df-7f9e9603-1b01-45eb-ae1d-60d4ad3142cf button');\n",
              "      quickchartButtonEl.style.display =\n",
              "        google.colab.kernel.accessAllowed ? 'block' : 'none';\n",
              "    })();\n",
              "  </script>\n",
              "</div>\n",
              "\n",
              "  <div id=\"id_a9bc98bb-c569-4afe-85a7-e350b9444cf0\">\n",
              "    <style>\n",
              "      .colab-df-generate {\n",
              "        background-color: #E8F0FE;\n",
              "        border: none;\n",
              "        border-radius: 50%;\n",
              "        cursor: pointer;\n",
              "        display: none;\n",
              "        fill: #1967D2;\n",
              "        height: 32px;\n",
              "        padding: 0 0 0 0;\n",
              "        width: 32px;\n",
              "      }\n",
              "\n",
              "      .colab-df-generate:hover {\n",
              "        background-color: #E2EBFA;\n",
              "        box-shadow: 0px 1px 2px rgba(60, 64, 67, 0.3), 0px 1px 3px 1px rgba(60, 64, 67, 0.15);\n",
              "        fill: #174EA6;\n",
              "      }\n",
              "\n",
              "      [theme=dark] .colab-df-generate {\n",
              "        background-color: #3B4455;\n",
              "        fill: #D2E3FC;\n",
              "      }\n",
              "\n",
              "      [theme=dark] .colab-df-generate:hover {\n",
              "        background-color: #434B5C;\n",
              "        box-shadow: 0px 1px 3px 1px rgba(0, 0, 0, 0.15);\n",
              "        filter: drop-shadow(0px 1px 2px rgba(0, 0, 0, 0.3));\n",
              "        fill: #FFFFFF;\n",
              "      }\n",
              "    </style>\n",
              "    <button class=\"colab-df-generate\" onclick=\"generateWithVariable('df_tfidf')\"\n",
              "            title=\"Generate code using this dataframe.\"\n",
              "            style=\"display:none;\">\n",
              "\n",
              "  <svg xmlns=\"http://www.w3.org/2000/svg\" height=\"24px\"viewBox=\"0 0 24 24\"\n",
              "       width=\"24px\">\n",
              "    <path d=\"M7,19H8.4L18.45,9,17,7.55,7,17.6ZM5,21V16.75L18.45,3.32a2,2,0,0,1,2.83,0l1.4,1.43a1.91,1.91,0,0,1,.58,1.4,1.91,1.91,0,0,1-.58,1.4L9.25,21ZM18.45,9,17,7.55Zm-12,3A5.31,5.31,0,0,0,4.9,8.1,5.31,5.31,0,0,0,1,6.5,5.31,5.31,0,0,0,4.9,4.9,5.31,5.31,0,0,0,6.5,1,5.31,5.31,0,0,0,8.1,4.9,5.31,5.31,0,0,0,12,6.5,5.46,5.46,0,0,0,6.5,12Z\"/>\n",
              "  </svg>\n",
              "    </button>\n",
              "    <script>\n",
              "      (() => {\n",
              "      const buttonEl =\n",
              "        document.querySelector('#id_a9bc98bb-c569-4afe-85a7-e350b9444cf0 button.colab-df-generate');\n",
              "      buttonEl.style.display =\n",
              "        google.colab.kernel.accessAllowed ? 'block' : 'none';\n",
              "\n",
              "      buttonEl.onclick = () => {\n",
              "        google.colab.notebook.generateWithVariable('df_tfidf');\n",
              "      }\n",
              "      })();\n",
              "    </script>\n",
              "  </div>\n",
              "\n",
              "    </div>\n",
              "  </div>\n"
            ],
            "application/vnd.google.colaboratory.intrinsic+json": {
              "type": "dataframe",
              "variable_name": "df_tfidf"
            }
          },
          "metadata": {},
          "execution_count": 48
        }
      ]
    },
    {
      "cell_type": "code",
      "source": [
        "# words_of_interest = ['surgery']\n",
        "# df_tfidf.max().sort_values(ascending=False)[words_of_interest]\n",
        "# # doctors = {}\n",
        "# # for record in all_notes.keys():\n",
        "# #     matches = re.search('[Attending.+[A-Za-z\\.\\s,]+\\sM\\.D\\.',all_notes[record][0:300])\n",
        "# #     try:\n",
        "# #       one_match = matches.group().strip()\n",
        "# #       if one_match not in doctors.keys():\n",
        "# #         doctors[one_match] = 1\n",
        "# #       else:\n",
        "# #         doctors[one_match] += 1\n",
        "# #     except:\n",
        "# #       _\n",
        "# # print(doctors)"
      ],
      "metadata": {
        "colab": {
          "base_uri": "https://localhost:8080/"
        },
        "id": "cCwmLc0gGTPX",
        "outputId": "42d95933-9f33-41ca-dfad-7c376f7d857b"
      },
      "id": "cCwmLc0gGTPX",
      "execution_count": 175,
      "outputs": [
        {
          "output_type": "execute_result",
          "data": {
            "text/plain": [
              "surgery    0.141455\n",
              "dtype: float64"
            ]
          },
          "metadata": {},
          "execution_count": 175
        }
      ]
    },
    {
      "cell_type": "code",
      "source": [
        "# y = []\n",
        "# word = 'hypertension'\n",
        "# for record in df_tfidf.index:\n",
        "#   new_df = df_tfidf.loc[record]\n",
        "#   if new_df['hypertension'] > 0.01 or new_df['heart'] > 0.01 or new_df['coronary'] > 0.01:\n",
        "#     y.append(word)\n",
        "#   else:\n",
        "#     y.append(\"non \" + word)"
      ],
      "metadata": {
        "id": "uKXLOh1WXZIi"
      },
      "id": "uKXLOh1WXZIi",
      "execution_count": 199,
      "outputs": []
    },
    {
      "cell_type": "markdown",
      "source": [
        "I transformed my data using TD-IDF and then placed the resulting matrix into TSNE, a dimension reduction technique. The result is a 2D visualization showing 4 distinct groups. I tried color-coding each document by institute and by doctor, but neither resulted in groups like in the TSNE visualization. I'll have to keep exploring!"
      ],
      "metadata": {
        "id": "U5_BGJsxfc4P"
      },
      "id": "U5_BGJsxfc4P"
    },
    {
      "cell_type": "code",
      "source": [
        "from yellowbrick.text import TSNEVisualizer\n",
        "\n",
        "tsne = TSNEVisualizer()\n",
        "tsne.fit(X)\n",
        "tsne.show()"
      ],
      "metadata": {
        "colab": {
          "base_uri": "https://localhost:8080/",
          "height": 532
        },
        "id": "OHWmxHeJGTz7",
        "outputId": "d26d0bd7-8499-4ace-d5db-7379eaf16453"
      },
      "id": "OHWmxHeJGTz7",
      "execution_count": 201,
      "outputs": [
        {
          "output_type": "stream",
          "name": "stderr",
          "text": [
            "/usr/local/lib/python3.10/dist-packages/yellowbrick/text/tsne.py:401: UserWarning: *c* argument looks like a single numeric RGB or RGBA sequence, which should be avoided as value-mapping will have precedence in case its length matches with *x* & *y*.  Please use the *color* keyword-argument or provide a 2D array with a single row if you intend to specify the same RGB or RGBA value for all points.\n",
            "  self.ax.scatter(\n"
          ]
        },
        {
          "output_type": "display_data",
          "data": {
            "text/plain": [
              "<Figure size 800x550 with 1 Axes>"
            ],
            "image/png": "[encoded data removed]"
          },
          "metadata": {}
        },
        {
          "output_type": "execute_result",
          "data": {
            "text/plain": [
              "<Axes: title={'center': 'TSNE Projection of 426 Documents'}>"
            ]
          },
          "metadata": {},
          "execution_count": 201
        }
      ]
    },
    {
      "cell_type": "code",
      "source": [],
      "metadata": {
        "id": "VYf6elTzGUVW"
      },
      "id": "VYf6elTzGUVW",
      "execution_count": 64,
      "outputs": []
    },
    {
      "cell_type": "code",
      "source": [],
      "metadata": {
        "colab": {
          "base_uri": "https://localhost:8080/"
        },
        "id": "9UdcsJHkGU3U",
        "outputId": "07c2eb1f-d9b2-4e0c-82fd-b819faf1eb13"
      },
      "id": "9UdcsJHkGU3U",
      "execution_count": 65,
      "outputs": [
        {
          "output_type": "stream",
          "name": "stdout",
          "text": [
            "97\n"
          ]
        }
      ]
    }
  ],
  "metadata": {
    "kernelspec": {
      "display_name": "nlp_env2",
      "language": "python",
      "name": "nlp_env2"
    },
    "language_info": {
      "codemirror_mode": {
        "name": "ipython",
        "version": 3
      },
      "file_extension": ".py",
      "mimetype": "text/x-python",
      "name": "python",
      "nbconvert_exporter": "python",
      "pygments_lexer": "ipython3",
      "version": "3.10.8"
    },
    "colab": {
      "provenance": [],
      "gpuType": "T4"
    },
    "accelerator": "GPU"
  },
  "nbformat": 4,
  "nbformat_minor": 5
}