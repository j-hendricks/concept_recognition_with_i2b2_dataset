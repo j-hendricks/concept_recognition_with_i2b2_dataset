{
 "cells": [
  {
   "cell_type": "code",
   "execution_count": 1,
   "id": "bc75f3b9",
   "metadata": {},
   "outputs": [],
   "source": [
    "# note: I have removed all data output due to the privacy of the data (data itself is already de-identified of patient information, \n",
    "# but part of the agreement when I was granted access was that I would not share the data with anyone)\n",
    "import numpy as np\n",
    "import pandas as pd\n",
    "import matplotlib.pyplot as plt\n",
    "import seaborn as sns\n",
    "import string\n",
    "import re\n",
    "import nltk\n",
    "import os"
   ]
  },
  {
   "cell_type": "code",
   "execution_count": 8,
   "id": "804f341a",
   "metadata": {},
   "outputs": [],
   "source": [
    "# sample of data; replaced identifying information with \"XXXX\"\n",
    "sample_file_path = 'concept_assertion_relation_training_data/beth/txt/XXXX.txt'\n",
    "with open(sample_file_path, 'r') as f:\n",
    "    data = f.read()"
   ]
  },
  {
   "cell_type": "code",
   "execution_count": null,
   "id": "6fccb115",
   "metadata": {},
   "outputs": [],
   "source": [
    "# data is delimited by new-line characters\n",
    "data.split('\\n')"
   ]
  },
  {
   "cell_type": "code",
   "execution_count": 11,
   "id": "8861ec5c",
   "metadata": {},
   "outputs": [],
   "source": [
    "# remember to close file, else risk overwriting it\n",
    "f.close()"
   ]
  },
  {
   "cell_type": "code",
   "execution_count": 13,
   "id": "11971359",
   "metadata": {},
   "outputs": [],
   "source": [
    "# sample of data\n",
    "sample_file_path = 'concept_assertion_relation_training_data/beth/concept/XXXX.con'\n",
    "with open(sample_file_path, 'r') as f:\n",
    "    data = f.read()"
   ]
  },
  {
   "cell_type": "code",
   "execution_count": 16,
   "id": "141457b0",
   "metadata": {},
   "outputs": [],
   "source": [
    "# make sure to close the file so that you don't overwrite the data\n",
    "f.close()"
   ]
  },
  {
   "cell_type": "code",
   "execution_count": 27,
   "id": "7e4b2c66",
   "metadata": {},
   "outputs": [
    {
     "name": "stdout",
     "output_type": "stream",
     "text": [
      "Number of clinical notes (for training) from Beth institute: 73\n"
     ]
    }
   ],
   "source": [
    "# the following cells check that all the data is there and that the test folder and train folder have the same number of files\n",
    "beth_file_directory = 'concept_assertion_relation_training_data/beth/txt/'\n",
    "beth_train_files = os.listdir(beth_file_directory)\n",
    "beth_train_files.remove('.DS_Store')\n",
    "print(\"Number of clinical notes (for training) from Beth institute:\",len(beth_train_files))"
   ]
  },
  {
   "cell_type": "code",
   "execution_count": 28,
   "id": "93a6655e",
   "metadata": {},
   "outputs": [
    {
     "name": "stdout",
     "output_type": "stream",
     "text": [
      "Number of concept files (for training) from Beth institute: 73\n"
     ]
    }
   ],
   "source": [
    "beth_concept_directory = 'concept_assertion_relation_training_data/beth/concept/'\n",
    "beth_concept_files = os.listdir(beth_concept_directory)\n",
    "print(\"Number of concept files (for training) from Beth institute:\",len(beth_concept_files))"
   ]
  },
  {
   "cell_type": "code",
   "execution_count": 30,
   "id": "74c66c2b",
   "metadata": {},
   "outputs": [
    {
     "name": "stdout",
     "output_type": "stream",
     "text": [
      "Number of clinical notes (for training) from partners other than Beth: 97\n"
     ]
    }
   ],
   "source": [
    "partner_file_directory = 'concept_assertion_relation_training_data/partners/txt/'\n",
    "partner_train_files = os.listdir(partner_file_directory)\n",
    "print(\"Number of clinical notes (for training) from partners other than Beth:\",len(partner_train_files))"
   ]
  },
  {
   "cell_type": "code",
   "execution_count": 31,
   "id": "a33ce59d",
   "metadata": {},
   "outputs": [
    {
     "name": "stdout",
     "output_type": "stream",
     "text": [
      "Number of concept files (for training) from partners other than Beth: 97\n"
     ]
    }
   ],
   "source": [
    "partner_concept_directory = 'concept_assertion_relation_training_data/partners/concept/'\n",
    "partner_concept_files = os.listdir(partner_concept_directory)\n",
    "print(\"Number of concept files (for training) from partners other than Beth:\",len(partner_concept_files))"
   ]
  },
  {
   "cell_type": "code",
   "execution_count": 32,
   "id": "0a5b2742",
   "metadata": {},
   "outputs": [
    {
     "name": "stdout",
     "output_type": "stream",
     "text": [
      "Total number of notes for training: 170\n"
     ]
    }
   ],
   "source": [
    "all_train_files = partner_train_files + beth_train_files\n",
    "print(\"Total number of notes for training:\", len(all_train_files))"
   ]
  },
  {
   "cell_type": "code",
   "execution_count": 35,
   "id": "69493874",
   "metadata": {},
   "outputs": [
    {
     "name": "stdout",
     "output_type": "stream",
     "text": [
      "Number of clinical notes for testing: 256\n"
     ]
    }
   ],
   "source": [
    "test_directory = 'test_data/'\n",
    "test_files = os.listdir(test_directory)\n",
    "print(\"Number of clinical notes for testing:\",len(test_files))"
   ]
  },
  {
   "cell_type": "code",
   "execution_count": 36,
   "id": "02a935f9",
   "metadata": {},
   "outputs": [
    {
     "name": "stdout",
     "output_type": "stream",
     "text": [
      "Number of concept files for testing: 256\n"
     ]
    }
   ],
   "source": [
    "test_directory_concepts = 'reference_standard_for_test_data/concepts/'\n",
    "concept_test_files = os.listdir(test_directory_concepts)\n",
    "print(\"Number of concept files for testing:\",len(concept_test_files))"
   ]
  },
  {
   "cell_type": "code",
   "execution_count": 66,
   "id": "efc0406b",
   "metadata": {},
   "outputs": [],
   "source": [
    "def extract_all_text_from_directory(file_directory):\n",
    "    text_dict = {}\n",
    "    file_list = os.listdir(file_directory)\n",
    "    for f in file_list:\n",
    "        if f[-3:] != 'xml' and f[-3:] != 'txt':\n",
    "            file_list.remove(f)\n",
    "    if '.DS_Store' in file_list:\n",
    "        file_list.remove('.DS_Store')\n",
    "    for file_name in file_list:\n",
    "        with open(file_directory + file_name,'r') as file:\n",
    "            data = file.read()\n",
    "            text_dict[file_name] = data\n",
    "            file.close()\n",
    "    return text_dict"
   ]
  },
  {
   "cell_type": "code",
   "execution_count": null,
   "id": "7516173a",
   "metadata": {},
   "outputs": [],
   "source": [
    "# add data to dataframe\n",
    "df = pd.DataFrame(text_data.values(),index=text_data.keys())\n",
    "df"
   ]
  },
  {
   "cell_type": "code",
   "execution_count": null,
   "id": "5aed8fbc",
   "metadata": {},
   "outputs": [],
   "source": [
    "df.iloc[0,0].split('\\n')"
   ]
  },
  {
   "cell_type": "code",
   "execution_count": null,
   "id": "a3f7407f",
   "metadata": {},
   "outputs": [],
   "source": [
    "df.iloc[1,0].split('\\n')"
   ]
  },
  {
   "cell_type": "code",
   "execution_count": null,
   "id": "6b821196",
   "metadata": {},
   "outputs": [],
   "source": [
    "second_file_directory = 'test_data/'\n",
    "text_data2 = extract_all_text_from_directory(second_file_directory)\n",
    "text_data2"
   ]
  },
  {
   "cell_type": "code",
   "execution_count": 42,
   "id": "bd5d0241",
   "metadata": {},
   "outputs": [],
   "source": [
    "df2 = pd.DataFrame(text_data2.values(),index=text_data2.keys())"
   ]
  },
  {
   "cell_type": "code",
   "execution_count": 57,
   "id": "7aa0ff49",
   "metadata": {},
   "outputs": [],
   "source": [
    "df3 = pd.concat([df,df2])"
   ]
  },
  {
   "cell_type": "code",
   "execution_count": 58,
   "id": "ac732510",
   "metadata": {},
   "outputs": [],
   "source": [
    "df3 = df3.reset_index()\n",
    "df3 = df3.rename(columns={0:\"text\",\"index\":\"file_name\"})"
   ]
  },
  {
   "cell_type": "code",
   "execution_count": null,
   "id": "75df34f4",
   "metadata": {},
   "outputs": [],
   "source": [
    "df3.head()"
   ]
  },
  {
   "cell_type": "code",
   "execution_count": 67,
   "id": "d2b099e4",
   "metadata": {},
   "outputs": [],
   "source": [
    "additional_directory = 'XXXX.original-annotation.release/'\n",
    "text_data3 = extract_all_text_from_directory(additional_directory)"
   ]
  },
  {
   "cell_type": "code",
   "execution_count": null,
   "id": "6118590e",
   "metadata": {},
   "outputs": [],
   "source": [
    "text_data3"
   ]
  },
  {
   "cell_type": "code",
   "execution_count": 69,
   "id": "7d49b43c",
   "metadata": {},
   "outputs": [
    {
     "data": {
      "text/plain": [
       "514"
      ]
     },
     "execution_count": 69,
     "metadata": {},
     "output_type": "execute_result"
    }
   ],
   "source": [
    "len(text_data3.values())"
   ]
  },
  {
   "cell_type": "code",
   "execution_count": 70,
   "id": "7baacde6",
   "metadata": {},
   "outputs": [
    {
     "data": {
      "text/plain": [
       "256"
      ]
     },
     "execution_count": 70,
     "metadata": {},
     "output_type": "execute_result"
    }
   ],
   "source": [
    "len(text_data2.values())"
   ]
  },
  {
   "cell_type": "code",
   "execution_count": 71,
   "id": "22931ab5",
   "metadata": {},
   "outputs": [
    {
     "data": {
      "text/plain": [
       "73"
      ]
     },
     "execution_count": 71,
     "metadata": {},
     "output_type": "execute_result"
    }
   ],
   "source": [
    "len(text_data.values())"
   ]
  },
  {
   "cell_type": "code",
   "execution_count": null,
   "id": "64ba78d6",
   "metadata": {},
   "outputs": [],
   "source": []
  }
 ],
 "metadata": {
  "kernelspec": {
   "display_name": "PythonData",
   "language": "python",
   "name": "pythondata"
  },
  "language_info": {
   "codemirror_mode": {
    "name": "ipython",
    "version": 3
   },
   "file_extension": ".py",
   "mimetype": "text/x-python",
   "name": "python",
   "nbconvert_exporter": "python",
   "pygments_lexer": "ipython3",
   "version": "3.7.13"
  }
 },
 "nbformat": 4,
 "nbformat_minor": 5
}
